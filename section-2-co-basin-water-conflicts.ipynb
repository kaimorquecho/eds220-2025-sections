{
 "cells": [
  {
   "cell_type": "markdown",
   "id": "faa5307c-8273-484e-8922-ff97b92977cd",
   "metadata": {
    "tags": []
   },
   "source": [
    "# Data loading"
   ]
  },
  {
   "cell_type": "code",
   "execution_count": 17,
   "id": "6f6565a2-7546-4e56-bdbb-ca8c071ddfd3",
   "metadata": {
    "tags": []
   },
   "outputs": [],
   "source": [
    "import pandas as pd\n",
    "import numpy as np"
   ]
  },
  {
   "cell_type": "code",
   "execution_count": 18,
   "id": "9c6190c5-668a-4a14-bef3-d9a21af848ef",
   "metadata": {
    "tags": []
   },
   "outputs": [],
   "source": [
    "colorado = pd.read_csv('data/Colorado River Basin Water Conflict Table.csv')"
   ]
  },
  {
   "cell_type": "markdown",
   "id": "fbccb6e5-f562-4c06-9907-2553bfadfa6d",
   "metadata": {},
   "source": [
    "# About the data\n",
    "\n",
    "**Where was the data collected from?**\n",
    "- Upper Colorado River Basin\n",
    "\n",
    "**During what time frame were the observations in the dataset collected?**\n",
    "- Start date: 01/01/2005\n",
    "- End date: 12/31/2021\n",
    "\n",
    "**What was the author's perceived value of this dataset?**\n",
    "- To understand social vulnerability to water insecurity, resiliency of instituions, and conflict hot spots around water resource management. "
   ]
  },
  {
   "cell_type": "markdown",
   "id": "cbe2c484-ec2d-4ff1-8b5d-b3ac4705c95d",
   "metadata": {},
   "source": [
    "The dataset documents water-related conflicts in the Upper Colorado River Basin, with data collected from 01/01/2005 to 12/32/2021. Each event in the dataset represents recorded interactions between parties driven by conflicts or crisis related to freshwater resources in the area. Events include descriptive information and codes that link them to larger suspected patterns of conflict. Events are categorized by level of intensity, and the levels range from -5 to 5, including 0. \n",
    "\n",
    "\n",
    "[Water conflicts in the Colorado River Basin\n",
    "Week 2 - Discussion section](https://doi.org/10.5066/P9X6WR7J)\n",
    "\n",
    "\n",
    "\n",
    "Holloman, D.V., Hines, M.K., and Zoanni, D.K., 2023, Coded Water Conflict and Crisis Events in the Colorado River Basin, Derived from LexisNexis search 2005-2021: U.S. Geological Survey data release, https://doi.org/10.5066/P9X6WR7J.\n",
    "\n",
    "Date of access\n",
    "10/10/2025"
   ]
  },
  {
   "cell_type": "code",
   "execution_count": 30,
   "id": "dc357e92-2682-497b-9f4c-7137ae62893f",
   "metadata": {
    "tags": []
   },
   "outputs": [
    {
     "name": "stdout",
     "output_type": "stream",
     "text": [
      "<class 'pandas.core.frame.DataFrame'>\n",
      "RangeIndex: 268 entries, 0 to 267\n",
      "Data columns (total 48 columns):\n",
      " #   Column                                        Non-Null Count  Dtype  \n",
      "---  ------                                        --------------  -----  \n",
      " 0   Event                                         268 non-null    int64  \n",
      " 1   Search Source                                 268 non-null    object \n",
      " 2   Newspaper                                     268 non-null    object \n",
      " 3   Article Title                                 268 non-null    object \n",
      " 4   Duplicate                                     267 non-null    object \n",
      " 5   Report Date                                   267 non-null    object \n",
      " 6   Report Year                                   265 non-null    float64\n",
      " 7   Event Date                                    248 non-null    object \n",
      " 8   Event Day                                     18 non-null     float64\n",
      " 9   Event Month                                   212 non-null    float64\n",
      " 10  Event Year                                    257 non-null    float64\n",
      " 11  Conflict Present                              252 non-null    object \n",
      " 12  Crisis Present                                254 non-null    object \n",
      " 13  Basin                                         250 non-null    object \n",
      " 14  HUC6                                          110 non-null    object \n",
      " 15  HUC2                                          250 non-null    object \n",
      " 16  Place                                         254 non-null    object \n",
      " 17  County                                        8 non-null      object \n",
      " 18  County FIPS                                   8 non-null      float64\n",
      " 19  State                                         178 non-null    object \n",
      " 20  State FIPS                                    178 non-null    object \n",
      " 21  Urban or Rural                                254 non-null    object \n",
      " 22  Issue Type                                    255 non-null    object \n",
      " 23  Event Summary                                 256 non-null    object \n",
      " 24  Stakeholders                                  255 non-null    object \n",
      " 25  Intensity Value                               255 non-null    float64\n",
      " 26  Comments                                      190 non-null    object \n",
      " 27  Related Observation Themes                    86 non-null     object \n",
      " 28  Article Text Search - water quality           268 non-null    int64  \n",
      " 29  Article Text Search - invasive species        268 non-null    int64  \n",
      " 30  Article Text Search - conservation            268 non-null    int64  \n",
      " 31  Article Text Search - drought                 268 non-null    int64  \n",
      " 32  Article Text Search - flood                   268 non-null    int64  \n",
      " 33  Article Text Search - ground water depletion  268 non-null    int64  \n",
      " 34  Article Text Search - depletion               268 non-null    int64  \n",
      " 35  Article Text Search - infrastructure          268 non-null    int64  \n",
      " 36  Article Text Search - fish passage            268 non-null    int64  \n",
      " 37  Article Text Search - instream water rights   268 non-null    int64  \n",
      " 38  Article Text Search - water rights            268 non-null    int64  \n",
      " 39  Article Text Search - intergovernmental       268 non-null    int64  \n",
      " 40  Article Text Search - water transfers         268 non-null    int64  \n",
      " 41  Article Text Search - navigation              268 non-null    int64  \n",
      " 42  Article Text Search - fish                    268 non-null    int64  \n",
      " 43  Article Text Search - invasive                268 non-null    int64  \n",
      " 44  Article Text Search - diversion               268 non-null    int64  \n",
      " 45  Article Text Search - water diversion         268 non-null    int64  \n",
      " 46  Article Text Search - instream                268 non-null    int64  \n",
      " 47  Article Text Search - aquatic                 268 non-null    int64  \n",
      "dtypes: float64(6), int64(21), object(21)\n",
      "memory usage: 100.6+ KB\n"
     ]
    }
   ],
   "source": [
    "colorado.info()"
   ]
  },
  {
   "cell_type": "code",
   "execution_count": 28,
   "id": "c8bd719e-db1d-4d50-b596-de8f433389f2",
   "metadata": {
    "tags": []
   },
   "outputs": [
    {
     "data": {
      "text/plain": [
       "(268, 48)"
      ]
     },
     "execution_count": 28,
     "metadata": {},
     "output_type": "execute_result"
    }
   ],
   "source": [
    "colorado.shape"
   ]
  },
  {
   "cell_type": "code",
   "execution_count": 25,
   "id": "3398dd70-7a81-4154-a113-a489e0148850",
   "metadata": {
    "tags": []
   },
   "outputs": [
    {
     "data": {
      "text/plain": [
       "['Event',\n",
       " 'Search Source',\n",
       " 'Newspaper',\n",
       " 'Article Title',\n",
       " 'Duplicate',\n",
       " 'Report Date',\n",
       " 'Report Year',\n",
       " 'Event Date',\n",
       " 'Event Day',\n",
       " 'Event Month',\n",
       " 'Event Year',\n",
       " 'Conflict Present',\n",
       " 'Crisis Present',\n",
       " 'Basin',\n",
       " 'HUC6',\n",
       " 'HUC2',\n",
       " 'Place',\n",
       " 'County',\n",
       " 'County FIPS',\n",
       " 'State',\n",
       " 'State FIPS',\n",
       " 'Urban or Rural',\n",
       " 'Issue Type',\n",
       " 'Event Summary',\n",
       " 'Stakeholders',\n",
       " 'Intensity Value',\n",
       " 'Comments',\n",
       " 'Related Observation Themes',\n",
       " 'Article Text Search - water quality',\n",
       " 'Article Text Search - invasive species',\n",
       " 'Article Text Search - conservation',\n",
       " 'Article Text Search - drought',\n",
       " 'Article Text Search - flood',\n",
       " 'Article Text Search - ground water depletion',\n",
       " 'Article Text Search - depletion',\n",
       " 'Article Text Search - infrastructure',\n",
       " 'Article Text Search - fish passage',\n",
       " 'Article Text Search - instream water rights',\n",
       " 'Article Text Search - water rights',\n",
       " 'Article Text Search - intergovernmental',\n",
       " 'Article Text Search - water transfers',\n",
       " 'Article Text Search - navigation',\n",
       " 'Article Text Search - fish',\n",
       " 'Article Text Search - invasive',\n",
       " 'Article Text Search - diversion',\n",
       " 'Article Text Search - water diversion',\n",
       " 'Article Text Search - instream',\n",
       " 'Article Text Search - aquatic']"
      ]
     },
     "execution_count": 25,
     "metadata": {},
     "output_type": "execute_result"
    }
   ],
   "source": [
    "colorado.columns.tolist()"
   ]
  },
  {
   "cell_type": "code",
   "execution_count": 29,
   "id": "7555fade-358b-4e53-b04e-9d20f325accb",
   "metadata": {
    "tags": []
   },
   "outputs": [
    {
     "data": {
      "text/plain": [
       "Event                                             int64\n",
       "Search Source                                    object\n",
       "Newspaper                                        object\n",
       "Article Title                                    object\n",
       "Duplicate                                        object\n",
       "Report Date                                      object\n",
       "Report Year                                     float64\n",
       "Event Date                                       object\n",
       "Event Day                                       float64\n",
       "Event Month                                     float64\n",
       "Event Year                                      float64\n",
       "Conflict Present                                 object\n",
       "Crisis Present                                   object\n",
       "Basin                                            object\n",
       "HUC6                                             object\n",
       "HUC2                                             object\n",
       "Place                                            object\n",
       "County                                           object\n",
       "County FIPS                                     float64\n",
       "State                                            object\n",
       "State FIPS                                       object\n",
       "Urban or Rural                                   object\n",
       "Issue Type                                       object\n",
       "Event Summary                                    object\n",
       "Stakeholders                                     object\n",
       "Intensity Value                                 float64\n",
       "Comments                                         object\n",
       "Related Observation Themes                       object\n",
       "Article Text Search - water quality               int64\n",
       "Article Text Search - invasive species            int64\n",
       "Article Text Search - conservation                int64\n",
       "Article Text Search - drought                     int64\n",
       "Article Text Search - flood                       int64\n",
       "Article Text Search - ground water depletion      int64\n",
       "Article Text Search - depletion                   int64\n",
       "Article Text Search - infrastructure              int64\n",
       "Article Text Search - fish passage                int64\n",
       "Article Text Search - instream water rights       int64\n",
       "Article Text Search - water rights                int64\n",
       "Article Text Search - intergovernmental           int64\n",
       "Article Text Search - water transfers             int64\n",
       "Article Text Search - navigation                  int64\n",
       "Article Text Search - fish                        int64\n",
       "Article Text Search - invasive                    int64\n",
       "Article Text Search - diversion                   int64\n",
       "Article Text Search - water diversion             int64\n",
       "Article Text Search - instream                    int64\n",
       "Article Text Search - aquatic                     int64\n",
       "dtype: object"
      ]
     },
     "execution_count": 29,
     "metadata": {},
     "output_type": "execute_result"
    }
   ],
   "source": [
    "colorado.dtypes"
   ]
  }
 ],
 "metadata": {
  "kernelspec": {
   "display_name": "Python 3 (ipykernel)",
   "language": "python",
   "name": "python3"
  },
  "language_info": {
   "codemirror_mode": {
    "name": "ipython",
    "version": 3
   },
   "file_extension": ".py",
   "mimetype": "text/x-python",
   "name": "python",
   "nbconvert_exporter": "python",
   "pygments_lexer": "ipython3",
   "version": "3.7.13"
  }
 },
 "nbformat": 4,
 "nbformat_minor": 5
}
